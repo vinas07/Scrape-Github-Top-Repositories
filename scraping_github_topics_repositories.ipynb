{
  "nbformat": 4,
  "nbformat_minor": 0,
  "metadata": {
    "colab": {
      "provenance": []
    },
    "kernelspec": {
      "name": "python3",
      "display_name": "Python 3"
    },
    "language_info": {
      "name": "python"
    }
  },
  "cells": [
    {
      "cell_type": "markdown",
      "source": [
        "# **Top Repositories for Github Topics**"
      ],
      "metadata": {
        "id": "5kCAPD-tPpho"
      }
    },
    {
      "cell_type": "markdown",
      "source": [
        "### Pick a website and describe your objective\n",
        "\n",
        "- Browse through different sites and pick on to scrape. Check the \"Project Ideas\" section for inspiration.\n",
        "- Identify the information you'd like to scrape from the site. Decide the format of the output CSV file.\n",
        "- Summarize your project idea and outline your strategy in a Google Colab."
      ],
      "metadata": {
        "id": "efVI1l3vP0WY"
      }
    },
    {
      "cell_type": "markdown",
      "source": [
        "#### Project Outline:-\n",
        "\n",
        "- We're going to scrape https://github.com/topics\n",
        "- We'll get list of topics. For each topic, we'll get topic title, topic page URL and topic description.\n",
        "- For each topic, we'll get the top 30 repositories in the topic from the topic page.\n",
        "- For each repository, we'll grab the repo name, username, stars and repo URL.\n",
        "- For each topic we'll create a CSV file in the following format:\n",
        "\n",
        "\n",
        "\n",
        "```\n",
        "Repo Name, Username, Stars, Repo URL\n",
        "three.js, mrdoob, 105000, https://github.com/mrdoob/three.js\n",
        "react-three-fiber, pmndrs, 28300, https://github.com/pmndrs/react-three-fiber\n",
        "```\n"
      ],
      "metadata": {
        "id": "etgbAZncSEfg"
      }
    },
    {
      "cell_type": "markdown",
      "source": [
        "### Use the requests library to download web pages\n",
        "\n",
        "- Inspect the website's HTML source and identify the right URLs to download.\n",
        "- Download and save web pages locally using the requests library.\n",
        "- Create a function to automate downloading for different topics/search queries."
      ],
      "metadata": {
        "id": "Uy80eSeNQi-g"
      }
    },
    {
      "cell_type": "code",
      "source": [
        "# !pip install requests --upgrade --quite"
      ],
      "metadata": {
        "id": "3aJZfcXjO_sp"
      },
      "execution_count": null,
      "outputs": []
    },
    {
      "cell_type": "markdown",
      "source": [
        "--quite will not shows downloading process but if there is any error it will only show errors."
      ],
      "metadata": {
        "id": "_U_8R6lqUrLA"
      }
    },
    {
      "cell_type": "code",
      "source": [
        "import requests"
      ],
      "metadata": {
        "id": "AKlaZ4kqO_qH"
      },
      "execution_count": null,
      "outputs": []
    },
    {
      "cell_type": "code",
      "source": [
        "topics_url = 'https://github.com/topics'"
      ],
      "metadata": {
        "id": "fhiHwymDQuE_"
      },
      "execution_count": null,
      "outputs": []
    },
    {
      "cell_type": "markdown",
      "source": [
        "- Sends a `GET` request to `topics_url` using the `requests` library.  \n",
        "- Displays the HTTP status code of the response to check if the request was successful (`200` indicates success)."
      ],
      "metadata": {
        "id": "G_SM6S6oDN_r"
      }
    },
    {
      "cell_type": "code",
      "source": [
        "response = requests.get(topics_url)"
      ],
      "metadata": {
        "id": "4rxAODAzQuCY"
      },
      "execution_count": null,
      "outputs": []
    },
    {
      "cell_type": "code",
      "source": [
        "response.status_code"
      ],
      "metadata": {
        "colab": {
          "base_uri": "https://localhost:8080/"
        },
        "id": "vETNBtfnQt_p",
        "outputId": "16335077-4f0d-41e5-f44e-d063e42f6f8a"
      },
      "execution_count": null,
      "outputs": [
        {
          "output_type": "execute_result",
          "data": {
            "text/plain": [
              "200"
            ]
          },
          "metadata": {},
          "execution_count": 5
        }
      ]
    },
    {
      "cell_type": "code",
      "source": [
        "len(response.text)"
      ],
      "metadata": {
        "colab": {
          "base_uri": "https://localhost:8080/"
        },
        "id": "g-ylI9m5erhu",
        "outputId": "cc843fdb-f33e-439b-d0b9-7d86d92e1f4f"
      },
      "execution_count": null,
      "outputs": [
        {
          "output_type": "execute_result",
          "data": {
            "text/plain": [
              "206070"
            ]
          },
          "metadata": {},
          "execution_count": 6
        }
      ]
    },
    {
      "cell_type": "markdown",
      "source": [
        "- Extracts the HTML content of the response as text.  \n",
        "- Takes the first 1000 characters and splits them into lines.  \n",
        "- Prints each line to get a preview of the webpage's HTML structure."
      ],
      "metadata": {
        "id": "LxSAkP7sDbNT"
      }
    },
    {
      "cell_type": "code",
      "source": [
        "page_contents = response.text\n",
        "page_content_example = page_contents[:1000].split('\\n')\n",
        "for i in page_content_example:\n",
        "  print(i)"
      ],
      "metadata": {
        "colab": {
          "base_uri": "https://localhost:8080/"
        },
        "id": "3fLB5ZXxerdz",
        "outputId": "bf3eb481-41a2-4af5-c86d-d312b833b44f"
      },
      "execution_count": null,
      "outputs": [
        {
          "output_type": "stream",
          "name": "stdout",
          "text": [
            "\n",
            "\n",
            "<!DOCTYPE html>\n",
            "<html\n",
            "  lang=\"en\"\n",
            "  \n",
            "  data-color-mode=\"auto\" data-light-theme=\"light\" data-dark-theme=\"dark\"\n",
            "  data-a11y-animated-images=\"system\" data-a11y-link-underlines=\"true\"\n",
            "  \n",
            "  >\n",
            "\n",
            "\n",
            "\n",
            "  <head>\n",
            "    <meta charset=\"utf-8\">\n",
            "  <link rel=\"dns-prefetch\" href=\"https://github.githubassets.com\">\n",
            "  <link rel=\"dns-prefetch\" href=\"https://avatars.githubusercontent.com\">\n",
            "  <link rel=\"dns-prefetch\" href=\"https://github-cloud.s3.amazonaws.com\">\n",
            "  <link rel=\"dns-prefetch\" href=\"https://user-images.githubusercontent.com/\">\n",
            "  <link rel=\"preconnect\" href=\"https://github.githubassets.com\" crossorigin>\n",
            "  <link rel=\"preconnect\" href=\"https://avatars.githubusercontent.com\">\n",
            "\n",
            "  \n",
            "\n",
            "  <link crossorigin=\"anonymous\" media=\"all\" rel=\"stylesheet\" href=\"https://github.githubassets.com/assets/light-605318cbe3a1.css\" /><link crossorigin=\"anonymous\" media=\"all\" rel=\"stylesheet\" href=\"https://github.githubassets.com/assets/dark-bd1cb5575fff.css\" /><link data-color-theme=\"dark_dimmed\" crossorigin=\"anonymous\" media=\n"
          ]
        }
      ]
    },
    {
      "cell_type": "markdown",
      "source": [
        "- Saves the entire HTML content of the webpage into a file named **`webpage.html`**.  \n",
        "- This allows for offline analysis and debugging of the scraped data."
      ],
      "metadata": {
        "id": "CEXWuAefDjDv"
      }
    },
    {
      "cell_type": "code",
      "source": [
        "with open('webpage.html', 'w') as f:\n",
        "  f.write(page_contents)"
      ],
      "metadata": {
        "id": "OCQpt4sxgB26"
      },
      "execution_count": null,
      "outputs": []
    },
    {
      "cell_type": "markdown",
      "source": [
        "This 'webpage.html' is saved in 'Files' option is left pannel shown in colab file."
      ],
      "metadata": {
        "id": "DmbdBftLio3l"
      }
    },
    {
      "cell_type": "markdown",
      "source": [
        "### Use Beautiful Soup to parse and extract information\n",
        "\n",
        "- Parse and explore the structure of downloaded web pages using Beautiful soup.\n",
        "- Use the right properties and methods to extract the required information.\n",
        "- Create functions to extract from the page into lists and dictionaries.\n",
        "- (Optional) Use a REST API to acquire additional information if required."
      ],
      "metadata": {
        "id": "7mWsGSfEQu9P"
      }
    },
    {
      "cell_type": "code",
      "source": [
        "from bs4 import BeautifulSoup"
      ],
      "metadata": {
        "id": "sAaUeT3xQt9b"
      },
      "execution_count": null,
      "outputs": []
    },
    {
      "cell_type": "code",
      "source": [
        "doc = BeautifulSoup(page_contents, 'html.parser')"
      ],
      "metadata": {
        "id": "1nRjc_xoQt60"
      },
      "execution_count": null,
      "outputs": []
    },
    {
      "cell_type": "code",
      "source": [
        "type(doc)"
      ],
      "metadata": {
        "id": "6nNBC0RdO_nW",
        "colab": {
          "base_uri": "https://localhost:8080/",
          "height": 220
        },
        "outputId": "d62619c0-3dcc-47a6-b408-20acd0a945d7"
      },
      "execution_count": null,
      "outputs": [
        {
          "output_type": "execute_result",
          "data": {
            "text/plain": [
              "bs4.BeautifulSoup"
            ],
            "text/html": [
              "<div style=\"max-width:800px; border: 1px solid var(--colab-border-color);\"><style>\n",
              "      pre.function-repr-contents {\n",
              "        overflow-x: auto;\n",
              "        padding: 8px 12px;\n",
              "        max-height: 500px;\n",
              "      }\n",
              "\n",
              "      pre.function-repr-contents.function-repr-contents-collapsed {\n",
              "        cursor: pointer;\n",
              "        max-height: 100px;\n",
              "      }\n",
              "    </style>\n",
              "    <pre style=\"white-space: initial; background:\n",
              "         var(--colab-secondary-surface-color); padding: 8px 12px;\n",
              "         border-bottom: 1px solid var(--colab-border-color);\"><b>bs4.BeautifulSoup</b><br/>def __call__(name: Optional[_StrainableElement]=None, attrs: _StrainableAttributes={}, recursive: bool=True, string: Optional[_StrainableString]=None, limit: Optional[int]=None, _stacklevel: int=2, **kwargs: _StrainableAttribute) -&gt; _QueryResults</pre><pre class=\"function-repr-contents function-repr-contents-collapsed\" style=\"\"><a class=\"filepath\" style=\"display:none\" href=\"#\">/usr/local/lib/python3.11/dist-packages/bs4/__init__.py</a>A data structure representing a parsed HTML or XML document.\n",
              "\n",
              "Most of the methods you&#x27;ll call on a BeautifulSoup object are inherited from\n",
              "PageElement or Tag.\n",
              "\n",
              "Internally, this class defines the basic interface called by the\n",
              "tree builders when converting an HTML/XML document into a data\n",
              "structure. The interface abstracts away the differences between\n",
              "parsers. To write a new tree builder, you&#x27;ll need to understand\n",
              "these methods as a whole.\n",
              "\n",
              "These methods will be called by the BeautifulSoup constructor:\n",
              "  * reset()\n",
              "  * feed(markup)\n",
              "\n",
              "The tree builder may call these methods from its feed() implementation:\n",
              "  * handle_starttag(name, attrs) # See note about return value\n",
              "  * handle_endtag(name)\n",
              "  * handle_data(data) # Appends to the current data node\n",
              "  * endData(containerClass) # Ends the current data node\n",
              "\n",
              "No matter how complicated the underlying parser is, you should be\n",
              "able to build a tree using &#x27;start tag&#x27; events, &#x27;end tag&#x27; events,\n",
              "&#x27;data&#x27; events, and &quot;done with data&quot; events.\n",
              "\n",
              "If you encounter an empty-element tag (aka a self-closing tag,\n",
              "like HTML&#x27;s &lt;br&gt; tag), call handle_starttag and then\n",
              "handle_endtag.</pre>\n",
              "      <script>\n",
              "      if (google.colab.kernel.accessAllowed && google.colab.files && google.colab.files.view) {\n",
              "        for (const element of document.querySelectorAll('.filepath')) {\n",
              "          element.style.display = 'block'\n",
              "          element.onclick = (event) => {\n",
              "            event.preventDefault();\n",
              "            event.stopPropagation();\n",
              "            google.colab.files.view(element.textContent, 133);\n",
              "          };\n",
              "        }\n",
              "      }\n",
              "      for (const element of document.querySelectorAll('.function-repr-contents')) {\n",
              "        element.onclick = (event) => {\n",
              "          event.preventDefault();\n",
              "          event.stopPropagation();\n",
              "          element.classList.toggle('function-repr-contents-collapsed');\n",
              "        };\n",
              "      }\n",
              "      </script>\n",
              "      </div>"
            ]
          },
          "metadata": {},
          "execution_count": 11
        }
      ]
    },
    {
      "cell_type": "markdown",
      "source": [
        "- Defines the CSS class used to locate topic titles on the webpage.  \n",
        "- Uses `BeautifulSoup` to find all `<p>` tags with the specified class.  \n",
        "- Comments explain an alternative method using `class_` for filtering.  \n",
        "- Returns the total number of topic title tags found."
      ],
      "metadata": {
        "id": "VWpzxzKSD_lX"
      }
    },
    {
      "cell_type": "markdown",
      "source": [
        "![](https://i.imgur.com/Q634wxh.png)"
      ],
      "metadata": {
        "id": "yvhRNQLWKHMv"
      }
    },
    {
      "cell_type": "code",
      "source": [
        "selection_class = 'f3 lh-condensed mb-0 mt-1 Link--primary'\n",
        "topic_title_tags = doc.find_all('p', {'class': selection_class})\n",
        "# we can also do ```topic_title_tags = doc.find_all('p',  class_ = selection_class)``` but above is more generic way.\n",
        "len(topic_title_tags)"
      ],
      "metadata": {
        "id": "SCWbp_NERAui",
        "colab": {
          "base_uri": "https://localhost:8080/"
        },
        "outputId": "a59720aa-5882-4ef7-d3b8-8a33bdface87"
      },
      "execution_count": null,
      "outputs": [
        {
          "output_type": "execute_result",
          "data": {
            "text/plain": [
              "30"
            ]
          },
          "metadata": {},
          "execution_count": 12
        }
      ]
    },
    {
      "cell_type": "markdown",
      "source": [
        "- Displays the first **5** topic title tags extracted from the webpage.  \n",
        "- Helps verify if the correct elements have been selected before further processing."
      ],
      "metadata": {
        "id": "3T2SD_PpEHcU"
      }
    },
    {
      "cell_type": "code",
      "source": [
        "topic_title_tags[:5]"
      ],
      "metadata": {
        "colab": {
          "base_uri": "https://localhost:8080/"
        },
        "id": "Pe3OqxASN485",
        "outputId": "d6b4cb14-236b-4032-f974-03837aa77c15"
      },
      "execution_count": null,
      "outputs": [
        {
          "output_type": "execute_result",
          "data": {
            "text/plain": [
              "[<p class=\"f3 lh-condensed mb-0 mt-1 Link--primary\">3D</p>,\n",
              " <p class=\"f3 lh-condensed mb-0 mt-1 Link--primary\">Ajax</p>,\n",
              " <p class=\"f3 lh-condensed mb-0 mt-1 Link--primary\">Algorithm</p>,\n",
              " <p class=\"f3 lh-condensed mb-0 mt-1 Link--primary\">Amp</p>,\n",
              " <p class=\"f3 lh-condensed mb-0 mt-1 Link--primary\">Android</p>]"
            ]
          },
          "metadata": {},
          "execution_count": 13
        }
      ]
    },
    {
      "cell_type": "markdown",
      "source": [
        "- Defines the CSS class used to locate topic descriptions on the webpage.  \n",
        "- Uses `BeautifulSoup` to find all `<p>` tags with the specified class.  \n",
        "- Returns the total number of topic description tags found."
      ],
      "metadata": {
        "id": "UpKuZzVBEKJR"
      }
    },
    {
      "cell_type": "code",
      "source": [
        "desc_selector = 'f5 color-fg-muted mb-0 mt-1'\n",
        "topic_desc_tags = doc.find_all('p', {'class': desc_selector})\n",
        "len(topic_desc_tags)"
      ],
      "metadata": {
        "colab": {
          "base_uri": "https://localhost:8080/"
        },
        "id": "VkblcIUQQE5x",
        "outputId": "2e0cbec6-c49e-42f8-e5a9-7663fec88a4d"
      },
      "execution_count": null,
      "outputs": [
        {
          "output_type": "execute_result",
          "data": {
            "text/plain": [
              "30"
            ]
          },
          "metadata": {},
          "execution_count": 14
        }
      ]
    },
    {
      "cell_type": "markdown",
      "source": [
        "- Displays the first **5** topic description tags extracted from the webpage.  \n",
        "- Helps verify if the correct elements have been selected before further processing."
      ],
      "metadata": {
        "id": "zASGrd3BERvM"
      }
    },
    {
      "cell_type": "code",
      "source": [
        "topic_desc_tags[:5]"
      ],
      "metadata": {
        "colab": {
          "base_uri": "https://localhost:8080/"
        },
        "id": "V40FDdHlQE3g",
        "outputId": "23422e71-982e-4959-f5eb-d3d04688167a"
      },
      "execution_count": null,
      "outputs": [
        {
          "output_type": "execute_result",
          "data": {
            "text/plain": [
              "[<p class=\"f5 color-fg-muted mb-0 mt-1\">\n",
              "           3D refers to the use of three-dimensional graphics, modeling, and animation in various industries.\n",
              "         </p>,\n",
              " <p class=\"f5 color-fg-muted mb-0 mt-1\">\n",
              "           Ajax is a technique for creating interactive web applications.\n",
              "         </p>,\n",
              " <p class=\"f5 color-fg-muted mb-0 mt-1\">\n",
              "           Algorithms are self-contained sequences that carry out a variety of tasks.\n",
              "         </p>,\n",
              " <p class=\"f5 color-fg-muted mb-0 mt-1\">\n",
              "           Amp is a non-blocking concurrency library for PHP.\n",
              "         </p>,\n",
              " <p class=\"f5 color-fg-muted mb-0 mt-1\">\n",
              "           Android is an operating system built by Google designed for mobile devices.\n",
              "         </p>]"
            ]
          },
          "metadata": {},
          "execution_count": 15
        }
      ]
    },
    {
      "cell_type": "markdown",
      "source": [
        "##### Below parent is just for understanding purpose"
      ],
      "metadata": {
        "id": "TpUwUkf6SNpd"
      }
    },
    {
      "cell_type": "markdown",
      "source": [
        "- Extracts the first topic title tag from the list.  \n",
        "- Displays its raw HTML content for inspection."
      ],
      "metadata": {
        "id": "oBtg_J-6EapU"
      }
    },
    {
      "cell_type": "code",
      "source": [
        "topic_title_tag0 = topic_title_tags[0]\n",
        "topic_title_tag0"
      ],
      "metadata": {
        "colab": {
          "base_uri": "https://localhost:8080/"
        },
        "id": "5cnOAZbCSNIR",
        "outputId": "715dd480-1f56-40d4-9b9b-d8cb51496373"
      },
      "execution_count": null,
      "outputs": [
        {
          "output_type": "execute_result",
          "data": {
            "text/plain": [
              "<p class=\"f3 lh-condensed mb-0 mt-1 Link--primary\">3D</p>"
            ]
          },
          "metadata": {},
          "execution_count": 16
        }
      ]
    },
    {
      "cell_type": "markdown",
      "source": [
        "- Retrieves the **parent** element of the first topic title tag.  \n",
        "- Helps analyze the surrounding HTML structure for better navigation or additional data extraction."
      ],
      "metadata": {
        "id": "DtubTis3EgCn"
      }
    },
    {
      "cell_type": "code",
      "source": [
        "topic_title_tag0.parent"
      ],
      "metadata": {
        "colab": {
          "base_uri": "https://localhost:8080/"
        },
        "id": "CvZbSWBUSNFx",
        "outputId": "b474bfe6-ae04-4010-d5c2-15f5677346ce"
      },
      "execution_count": null,
      "outputs": [
        {
          "output_type": "execute_result",
          "data": {
            "text/plain": [
              "<a class=\"no-underline flex-1 d-flex flex-column\" href=\"/topics/3d\">\n",
              "<p class=\"f3 lh-condensed mb-0 mt-1 Link--primary\">3D</p>\n",
              "<p class=\"f5 color-fg-muted mb-0 mt-1\">\n",
              "          3D refers to the use of three-dimensional graphics, modeling, and animation in various industries.\n",
              "        </p>\n",
              "</a>"
            ]
          },
          "metadata": {},
          "execution_count": 17
        }
      ]
    },
    {
      "cell_type": "markdown",
      "source": [
        "- Retrieves the **name** of the parent tag of the first topic title element.  \n",
        "- Helps understand the HTML hierarchy and structure for more efficient scraping."
      ],
      "metadata": {
        "id": "ZeUMG4gcEki9"
      }
    },
    {
      "cell_type": "code",
      "source": [
        "topic_title_tag0.parent.name"
      ],
      "metadata": {
        "colab": {
          "base_uri": "https://localhost:8080/",
          "height": 35
        },
        "id": "YF381v3LSjlU",
        "outputId": "bd858ce3-a879-4cbc-b82f-7c408f348059"
      },
      "execution_count": null,
      "outputs": [
        {
          "output_type": "execute_result",
          "data": {
            "text/plain": [
              "'a'"
            ],
            "application/vnd.google.colaboratory.intrinsic+json": {
              "type": "string"
            }
          },
          "metadata": {},
          "execution_count": 18
        }
      ]
    },
    {
      "cell_type": "markdown",
      "source": [
        "- Retrieves the **attributes** of the parent tag of the first topic title element.  \n",
        "- Helps inspect additional metadata (e.g., class names, IDs) that might be useful for scraping."
      ],
      "metadata": {
        "id": "YTlHOW4OEymY"
      }
    },
    {
      "cell_type": "code",
      "source": [
        "topic_title_tag0.parent.attrs"
      ],
      "metadata": {
        "colab": {
          "base_uri": "https://localhost:8080/"
        },
        "id": "CJxyXnCQSnwd",
        "outputId": "e7d3e67f-4862-49bc-a4ef-37830e7ce97d"
      },
      "execution_count": null,
      "outputs": [
        {
          "output_type": "execute_result",
          "data": {
            "text/plain": [
              "{'href': '/topics/3d',\n",
              " 'class': ['no-underline', 'flex-1', 'd-flex', 'flex-column']}"
            ]
          },
          "metadata": {},
          "execution_count": 19
        }
      ]
    },
    {
      "cell_type": "code",
      "source": [
        "topic_title_tag0.parent.parent"
      ],
      "metadata": {
        "colab": {
          "base_uri": "https://localhost:8080/"
        },
        "id": "IlRwQfqUSq5b",
        "outputId": "0f503b75-1f1e-40a2-9adf-893e3f5ec294"
      },
      "execution_count": null,
      "outputs": [
        {
          "output_type": "execute_result",
          "data": {
            "text/plain": [
              "<div class=\"py-4 border-bottom d-flex flex-justify-between\">\n",
              "<a class=\"no-underline flex-grow-0\" href=\"/topics/3d\">\n",
              "<div class=\"color-bg-accent f4 color-fg-muted text-bold rounded mr-3 flex-shrink-0 text-center\" style=\"width:64px; height:64px; line-height:64px;\">\n",
              "            #\n",
              "          </div>\n",
              "</a>\n",
              "<a class=\"no-underline flex-1 d-flex flex-column\" href=\"/topics/3d\">\n",
              "<p class=\"f3 lh-condensed mb-0 mt-1 Link--primary\">3D</p>\n",
              "<p class=\"f5 color-fg-muted mb-0 mt-1\">\n",
              "          3D refers to the use of three-dimensional graphics, modeling, and animation in various industries.\n",
              "        </p>\n",
              "</a>\n",
              "<div class=\"flex-grow-0\">\n",
              "<div class=\"d-block\" data-view-component=\"true\">\n",
              "<a aria-label=\"You must be signed in to star a repository\" class=\"tooltipped tooltipped-sw btn-sm btn\" data-hydro-click='{\"event_type\":\"authentication.click\",\"payload\":{\"location_in_page\":\"star button\",\"repository_id\":null,\"auth_type\":\"LOG_IN\",\"originating_url\":\"https://github.com/topics\",\"user_id\":null}}' data-hydro-click-hmac=\"7575b5082e2c3915281be9460d747ad48fe377ebd620d4e12e2387269c69459c\" data-view-component=\"true\" href=\"/login?return_to=%2Ftopic.3d\" rel=\"nofollow\"> <svg aria-hidden=\"true\" class=\"octicon octicon-star v-align-text-bottom d-inline-block mr-2\" data-view-component=\"true\" height=\"16\" version=\"1.1\" viewbox=\"0 0 16 16\" width=\"16\">\n",
              "<path d=\"M8 .25a.75.75 0 0 1 .673.418l1.882 3.815 4.21.612a.75.75 0 0 1 .416 1.279l-3.046 2.97.719 4.192a.751.751 0 0 1-1.088.791L8 12.347l-3.766 1.98a.75.75 0 0 1-1.088-.79l.72-4.194L.818 6.374a.75.75 0 0 1 .416-1.28l4.21-.611L7.327.668A.75.75 0 0 1 8 .25Zm0 2.445L6.615 5.5a.75.75 0 0 1-.564.41l-3.097.45 2.24 2.184a.75.75 0 0 1 .216.664l-.528 3.084 2.769-1.456a.75.75 0 0 1 .698 0l2.77 1.456-.53-3.084a.75.75 0 0 1 .216-.664l2.24-2.183-3.096-.45a.75.75 0 0 1-.564-.41L8 2.694Z\"></path>\n",
              "</svg><span class=\"d-inline\" data-view-component=\"true\">\n",
              "          Star\n",
              "</span>\n",
              "</a></div>\n",
              "</div>\n",
              "</div>"
            ]
          },
          "metadata": {},
          "execution_count": 20
        }
      ]
    },
    {
      "cell_type": "markdown",
      "source": [
        "Above code is given just for learning purpose."
      ],
      "metadata": {
        "id": "9DDQ9nSeSz89"
      }
    },
    {
      "cell_type": "code",
      "source": [
        "url_selector = 'no-underline flex-1 d-flex flex-column'\n",
        "topic_link_tags = doc.find_all('a', {'class': url_selector})\n",
        "len(topic_link_tags)"
      ],
      "metadata": {
        "colab": {
          "base_uri": "https://localhost:8080/"
        },
        "id": "0UT3N6VKQE09",
        "outputId": "b5d2f44b-e4bf-4596-892e-e44e5e888640"
      },
      "execution_count": null,
      "outputs": [
        {
          "output_type": "execute_result",
          "data": {
            "text/plain": [
              "30"
            ]
          },
          "metadata": {},
          "execution_count": 21
        }
      ]
    },
    {
      "cell_type": "code",
      "source": [
        "topic_link_tags[0]"
      ],
      "metadata": {
        "colab": {
          "base_uri": "https://localhost:8080/"
        },
        "id": "u9MkqKycn4_d",
        "outputId": "d6776164-6b69-42af-c7f8-7e93c6fa401e"
      },
      "execution_count": null,
      "outputs": [
        {
          "output_type": "execute_result",
          "data": {
            "text/plain": [
              "<a class=\"no-underline flex-1 d-flex flex-column\" href=\"/topics/3d\">\n",
              "<p class=\"f3 lh-condensed mb-0 mt-1 Link--primary\">3D</p>\n",
              "<p class=\"f5 color-fg-muted mb-0 mt-1\">\n",
              "          3D refers to the use of three-dimensional graphics, modeling, and animation in various industries.\n",
              "        </p>\n",
              "</a>"
            ]
          },
          "metadata": {},
          "execution_count": 22
        }
      ]
    },
    {
      "cell_type": "code",
      "source": [
        "topic_link_tags[0]['href']"
      ],
      "metadata": {
        "colab": {
          "base_uri": "https://localhost:8080/",
          "height": 35
        },
        "id": "bfMTbZC9nud5",
        "outputId": "9280fbef-f48a-4416-c00c-47ad5ff0e580"
      },
      "execution_count": null,
      "outputs": [
        {
          "output_type": "execute_result",
          "data": {
            "text/plain": [
              "'/topics/3d'"
            ],
            "application/vnd.google.colaboratory.intrinsic+json": {
              "type": "string"
            }
          },
          "metadata": {},
          "execution_count": 23
        }
      ]
    },
    {
      "cell_type": "markdown",
      "source": [
        "- Extracts the **href** attributes from `topic_link_tags` to get topic URL suffixes.  \n",
        "- Prepends `'https://github.com'` to each suffix to form complete URLs.  \n",
        "- Displays the first **5** full topic URLs for verification."
      ],
      "metadata": {
        "id": "3vkfOMAHFH9F"
      }
    },
    {
      "cell_type": "code",
      "source": [
        "topic_url_suffix = []\n",
        "for i in topic_link_tags:\n",
        "  topic_url_suffix.append(i['href'])\n",
        "topic_url_suffix[:5]"
      ],
      "metadata": {
        "colab": {
          "base_uri": "https://localhost:8080/"
        },
        "id": "WiWvSVoeQEyi",
        "outputId": "7918f84e-0cab-4092-a766-4f84e4719b2c"
      },
      "execution_count": null,
      "outputs": [
        {
          "output_type": "execute_result",
          "data": {
            "text/plain": [
              "['/topics/3d',\n",
              " '/topics/ajax',\n",
              " '/topics/algorithm',\n",
              " '/topics/amphp',\n",
              " '/topics/android']"
            ]
          },
          "metadata": {},
          "execution_count": 24
        }
      ]
    },
    {
      "cell_type": "code",
      "source": [
        "topic_urls = []\n",
        "for i in topic_url_suffix:\n",
        "  topic_urls.append('https://github.com' + i)\n",
        "\n",
        "topic_urls[:5]"
      ],
      "metadata": {
        "colab": {
          "base_uri": "https://localhost:8080/"
        },
        "id": "wJln0PegoN19",
        "outputId": "ea71bb3e-0434-4979-bf7f-ef2585fa93f1"
      },
      "execution_count": null,
      "outputs": [
        {
          "output_type": "execute_result",
          "data": {
            "text/plain": [
              "['https://github.com/topics/3d',\n",
              " 'https://github.com/topics/ajax',\n",
              " 'https://github.com/topics/algorithm',\n",
              " 'https://github.com/topics/amphp',\n",
              " 'https://github.com/topics/android']"
            ]
          },
          "metadata": {},
          "execution_count": 25
        }
      ]
    },
    {
      "cell_type": "markdown",
      "source": [
        "Remember that above one is not the only option. you can apply other method to get urls, there are many more ways to get urls."
      ],
      "metadata": {
        "id": "30a8x3sXouST"
      }
    },
    {
      "cell_type": "code",
      "source": [
        "topic_title_tags[:5]"
      ],
      "metadata": {
        "colab": {
          "base_uri": "https://localhost:8080/"
        },
        "id": "dCNJDGtspbyE",
        "outputId": "7adfe244-7619-47e5-f7c0-7f33b7109628"
      },
      "execution_count": null,
      "outputs": [
        {
          "output_type": "execute_result",
          "data": {
            "text/plain": [
              "[<p class=\"f3 lh-condensed mb-0 mt-1 Link--primary\">3D</p>,\n",
              " <p class=\"f3 lh-condensed mb-0 mt-1 Link--primary\">Ajax</p>,\n",
              " <p class=\"f3 lh-condensed mb-0 mt-1 Link--primary\">Algorithm</p>,\n",
              " <p class=\"f3 lh-condensed mb-0 mt-1 Link--primary\">Amp</p>,\n",
              " <p class=\"f3 lh-condensed mb-0 mt-1 Link--primary\">Android</p>]"
            ]
          },
          "metadata": {},
          "execution_count": 26
        }
      ]
    },
    {
      "cell_type": "code",
      "source": [
        "topic_title_tags[0].text"
      ],
      "metadata": {
        "colab": {
          "base_uri": "https://localhost:8080/",
          "height": 35
        },
        "id": "B0NFzArRpbus",
        "outputId": "1ce4ea60-4771-4331-c43c-fd75bb09b054"
      },
      "execution_count": null,
      "outputs": [
        {
          "output_type": "execute_result",
          "data": {
            "text/plain": [
              "'3D'"
            ],
            "application/vnd.google.colaboratory.intrinsic+json": {
              "type": "string"
            }
          },
          "metadata": {},
          "execution_count": 27
        }
      ]
    },
    {
      "cell_type": "code",
      "source": [
        "topic_titles = []\n",
        "\n",
        "for tag in topic_title_tags:\n",
        "  topic_titles.append(tag.text)\n",
        "\n",
        "topic_titles[:5]"
      ],
      "metadata": {
        "colab": {
          "base_uri": "https://localhost:8080/"
        },
        "id": "XHioWGOzpbra",
        "outputId": "cc6e2286-1448-4d3d-d5f6-462b66966d57"
      },
      "execution_count": null,
      "outputs": [
        {
          "output_type": "execute_result",
          "data": {
            "text/plain": [
              "['3D', 'Ajax', 'Algorithm', 'Amp', 'Android']"
            ]
          },
          "metadata": {},
          "execution_count": 28
        }
      ]
    },
    {
      "cell_type": "code",
      "source": [
        "topic_descriptions = []\n",
        "for tag in topic_desc_tags:\n",
        "  topic_descriptions.append(tag.text.strip())\n",
        "\n",
        "topic_descriptions[:5]"
      ],
      "metadata": {
        "colab": {
          "base_uri": "https://localhost:8080/"
        },
        "id": "rWcDrJQ2uOA6",
        "outputId": "9a2ccc31-58b7-4163-d8c1-98ab9ae85d07"
      },
      "execution_count": null,
      "outputs": [
        {
          "output_type": "execute_result",
          "data": {
            "text/plain": [
              "['3D refers to the use of three-dimensional graphics, modeling, and animation in various industries.',\n",
              " 'Ajax is a technique for creating interactive web applications.',\n",
              " 'Algorithms are self-contained sequences that carry out a variety of tasks.',\n",
              " 'Amp is a non-blocking concurrency library for PHP.',\n",
              " 'Android is an operating system built by Google designed for mobile devices.']"
            ]
          },
          "metadata": {},
          "execution_count": 29
        }
      ]
    },
    {
      "cell_type": "markdown",
      "source": [
        "### Create CSV file(s) with the extracted information\n",
        "\n",
        "- Create functions for the end-to-end process of downloading, parsing, and saving CSVs.\n",
        "- Execute the function with different inputs to create a dataset of CSV files.\n",
        "- Verify the information in the CSV files by reading them back using Pandas."
      ],
      "metadata": {
        "id": "LbQ4td0_RBkl"
      }
    },
    {
      "cell_type": "code",
      "source": [
        "import pandas as pd"
      ],
      "metadata": {
        "id": "4w8mkc4rRAoB"
      },
      "execution_count": null,
      "outputs": []
    },
    {
      "cell_type": "markdown",
      "source": [
        "- Creates a dictionary **`data`** with three keys:  \n",
        "  - `'topic'` → List of topic titles  \n",
        "  - `'topic_desc'` → List of topic descriptions  \n",
        "  - `'topic_URL'` → List of full topic URLs  \n",
        "- Converts the dictionary into a **Pandas DataFrame** (`df`).  \n",
        "- Displays the first **5** rows using `df.head()` to verify the structured data."
      ],
      "metadata": {
        "id": "5cSUNGLpFm47"
      }
    },
    {
      "cell_type": "code",
      "source": [
        "data = {'topic': topic_titles,\n",
        "        'topic_desc': topic_descriptions,\n",
        "        'topic_URL': topic_urls}\n",
        "\n",
        "df = pd.DataFrame(data = data)\n",
        "\n",
        "df.head()"
      ],
      "metadata": {
        "id": "W0vjyTrtRAjt",
        "colab": {
          "base_uri": "https://localhost:8080/",
          "height": 206
        },
        "outputId": "2110125c-07c8-4ad4-a47e-23c372160d29"
      },
      "execution_count": null,
      "outputs": [
        {
          "output_type": "execute_result",
          "data": {
            "text/plain": [
              "       topic                                         topic_desc  \\\n",
              "0         3D  3D refers to the use of three-dimensional grap...   \n",
              "1       Ajax  Ajax is a technique for creating interactive w...   \n",
              "2  Algorithm  Algorithms are self-contained sequences that c...   \n",
              "3        Amp  Amp is a non-blocking concurrency library for ...   \n",
              "4    Android  Android is an operating system built by Google...   \n",
              "\n",
              "                             topic_URL  \n",
              "0         https://github.com/topics/3d  \n",
              "1       https://github.com/topics/ajax  \n",
              "2  https://github.com/topics/algorithm  \n",
              "3      https://github.com/topics/amphp  \n",
              "4    https://github.com/topics/android  "
            ],
            "text/html": [
              "\n",
              "  <div id=\"df-05860a20-8c59-4065-bd54-3d598f5639b8\" class=\"colab-df-container\">\n",
              "    <div>\n",
              "<style scoped>\n",
              "    .dataframe tbody tr th:only-of-type {\n",
              "        vertical-align: middle;\n",
              "    }\n",
              "\n",
              "    .dataframe tbody tr th {\n",
              "        vertical-align: top;\n",
              "    }\n",
              "\n",
              "    .dataframe thead th {\n",
              "        text-align: right;\n",
              "    }\n",
              "</style>\n",
              "<table border=\"1\" class=\"dataframe\">\n",
              "  <thead>\n",
              "    <tr style=\"text-align: right;\">\n",
              "      <th></th>\n",
              "      <th>topic</th>\n",
              "      <th>topic_desc</th>\n",
              "      <th>topic_URL</th>\n",
              "    </tr>\n",
              "  </thead>\n",
              "  <tbody>\n",
              "    <tr>\n",
              "      <th>0</th>\n",
              "      <td>3D</td>\n",
              "      <td>3D refers to the use of three-dimensional grap...</td>\n",
              "      <td>https://github.com/topics/3d</td>\n",
              "    </tr>\n",
              "    <tr>\n",
              "      <th>1</th>\n",
              "      <td>Ajax</td>\n",
              "      <td>Ajax is a technique for creating interactive w...</td>\n",
              "      <td>https://github.com/topics/ajax</td>\n",
              "    </tr>\n",
              "    <tr>\n",
              "      <th>2</th>\n",
              "      <td>Algorithm</td>\n",
              "      <td>Algorithms are self-contained sequences that c...</td>\n",
              "      <td>https://github.com/topics/algorithm</td>\n",
              "    </tr>\n",
              "    <tr>\n",
              "      <th>3</th>\n",
              "      <td>Amp</td>\n",
              "      <td>Amp is a non-blocking concurrency library for ...</td>\n",
              "      <td>https://github.com/topics/amphp</td>\n",
              "    </tr>\n",
              "    <tr>\n",
              "      <th>4</th>\n",
              "      <td>Android</td>\n",
              "      <td>Android is an operating system built by Google...</td>\n",
              "      <td>https://github.com/topics/android</td>\n",
              "    </tr>\n",
              "  </tbody>\n",
              "</table>\n",
              "</div>\n",
              "    <div class=\"colab-df-buttons\">\n",
              "\n",
              "  <div class=\"colab-df-container\">\n",
              "    <button class=\"colab-df-convert\" onclick=\"convertToInteractive('df-05860a20-8c59-4065-bd54-3d598f5639b8')\"\n",
              "            title=\"Convert this dataframe to an interactive table.\"\n",
              "            style=\"display:none;\">\n",
              "\n",
              "  <svg xmlns=\"http://www.w3.org/2000/svg\" height=\"24px\" viewBox=\"0 -960 960 960\">\n",
              "    <path d=\"M120-120v-720h720v720H120Zm60-500h600v-160H180v160Zm220 220h160v-160H400v160Zm0 220h160v-160H400v160ZM180-400h160v-160H180v160Zm440 0h160v-160H620v160ZM180-180h160v-160H180v160Zm440 0h160v-160H620v160Z\"/>\n",
              "  </svg>\n",
              "    </button>\n",
              "\n",
              "  <style>\n",
              "    .colab-df-container {\n",
              "      display:flex;\n",
              "      gap: 12px;\n",
              "    }\n",
              "\n",
              "    .colab-df-convert {\n",
              "      background-color: #E8F0FE;\n",
              "      border: none;\n",
              "      border-radius: 50%;\n",
              "      cursor: pointer;\n",
              "      display: none;\n",
              "      fill: #1967D2;\n",
              "      height: 32px;\n",
              "      padding: 0 0 0 0;\n",
              "      width: 32px;\n",
              "    }\n",
              "\n",
              "    .colab-df-convert:hover {\n",
              "      background-color: #E2EBFA;\n",
              "      box-shadow: 0px 1px 2px rgba(60, 64, 67, 0.3), 0px 1px 3px 1px rgba(60, 64, 67, 0.15);\n",
              "      fill: #174EA6;\n",
              "    }\n",
              "\n",
              "    .colab-df-buttons div {\n",
              "      margin-bottom: 4px;\n",
              "    }\n",
              "\n",
              "    [theme=dark] .colab-df-convert {\n",
              "      background-color: #3B4455;\n",
              "      fill: #D2E3FC;\n",
              "    }\n",
              "\n",
              "    [theme=dark] .colab-df-convert:hover {\n",
              "      background-color: #434B5C;\n",
              "      box-shadow: 0px 1px 3px 1px rgba(0, 0, 0, 0.15);\n",
              "      filter: drop-shadow(0px 1px 2px rgba(0, 0, 0, 0.3));\n",
              "      fill: #FFFFFF;\n",
              "    }\n",
              "  </style>\n",
              "\n",
              "    <script>\n",
              "      const buttonEl =\n",
              "        document.querySelector('#df-05860a20-8c59-4065-bd54-3d598f5639b8 button.colab-df-convert');\n",
              "      buttonEl.style.display =\n",
              "        google.colab.kernel.accessAllowed ? 'block' : 'none';\n",
              "\n",
              "      async function convertToInteractive(key) {\n",
              "        const element = document.querySelector('#df-05860a20-8c59-4065-bd54-3d598f5639b8');\n",
              "        const dataTable =\n",
              "          await google.colab.kernel.invokeFunction('convertToInteractive',\n",
              "                                                    [key], {});\n",
              "        if (!dataTable) return;\n",
              "\n",
              "        const docLinkHtml = 'Like what you see? Visit the ' +\n",
              "          '<a target=\"_blank\" href=https://colab.research.google.com/notebooks/data_table.ipynb>data table notebook</a>'\n",
              "          + ' to learn more about interactive tables.';\n",
              "        element.innerHTML = '';\n",
              "        dataTable['output_type'] = 'display_data';\n",
              "        await google.colab.output.renderOutput(dataTable, element);\n",
              "        const docLink = document.createElement('div');\n",
              "        docLink.innerHTML = docLinkHtml;\n",
              "        element.appendChild(docLink);\n",
              "      }\n",
              "    </script>\n",
              "  </div>\n",
              "\n",
              "\n",
              "<div id=\"df-87716983-d7b6-4794-92b4-1eaf42c0702a\">\n",
              "  <button class=\"colab-df-quickchart\" onclick=\"quickchart('df-87716983-d7b6-4794-92b4-1eaf42c0702a')\"\n",
              "            title=\"Suggest charts\"\n",
              "            style=\"display:none;\">\n",
              "\n",
              "<svg xmlns=\"http://www.w3.org/2000/svg\" height=\"24px\"viewBox=\"0 0 24 24\"\n",
              "     width=\"24px\">\n",
              "    <g>\n",
              "        <path d=\"M19 3H5c-1.1 0-2 .9-2 2v14c0 1.1.9 2 2 2h14c1.1 0 2-.9 2-2V5c0-1.1-.9-2-2-2zM9 17H7v-7h2v7zm4 0h-2V7h2v10zm4 0h-2v-4h2v4z\"/>\n",
              "    </g>\n",
              "</svg>\n",
              "  </button>\n",
              "\n",
              "<style>\n",
              "  .colab-df-quickchart {\n",
              "      --bg-color: #E8F0FE;\n",
              "      --fill-color: #1967D2;\n",
              "      --hover-bg-color: #E2EBFA;\n",
              "      --hover-fill-color: #174EA6;\n",
              "      --disabled-fill-color: #AAA;\n",
              "      --disabled-bg-color: #DDD;\n",
              "  }\n",
              "\n",
              "  [theme=dark] .colab-df-quickchart {\n",
              "      --bg-color: #3B4455;\n",
              "      --fill-color: #D2E3FC;\n",
              "      --hover-bg-color: #434B5C;\n",
              "      --hover-fill-color: #FFFFFF;\n",
              "      --disabled-bg-color: #3B4455;\n",
              "      --disabled-fill-color: #666;\n",
              "  }\n",
              "\n",
              "  .colab-df-quickchart {\n",
              "    background-color: var(--bg-color);\n",
              "    border: none;\n",
              "    border-radius: 50%;\n",
              "    cursor: pointer;\n",
              "    display: none;\n",
              "    fill: var(--fill-color);\n",
              "    height: 32px;\n",
              "    padding: 0;\n",
              "    width: 32px;\n",
              "  }\n",
              "\n",
              "  .colab-df-quickchart:hover {\n",
              "    background-color: var(--hover-bg-color);\n",
              "    box-shadow: 0 1px 2px rgba(60, 64, 67, 0.3), 0 1px 3px 1px rgba(60, 64, 67, 0.15);\n",
              "    fill: var(--button-hover-fill-color);\n",
              "  }\n",
              "\n",
              "  .colab-df-quickchart-complete:disabled,\n",
              "  .colab-df-quickchart-complete:disabled:hover {\n",
              "    background-color: var(--disabled-bg-color);\n",
              "    fill: var(--disabled-fill-color);\n",
              "    box-shadow: none;\n",
              "  }\n",
              "\n",
              "  .colab-df-spinner {\n",
              "    border: 2px solid var(--fill-color);\n",
              "    border-color: transparent;\n",
              "    border-bottom-color: var(--fill-color);\n",
              "    animation:\n",
              "      spin 1s steps(1) infinite;\n",
              "  }\n",
              "\n",
              "  @keyframes spin {\n",
              "    0% {\n",
              "      border-color: transparent;\n",
              "      border-bottom-color: var(--fill-color);\n",
              "      border-left-color: var(--fill-color);\n",
              "    }\n",
              "    20% {\n",
              "      border-color: transparent;\n",
              "      border-left-color: var(--fill-color);\n",
              "      border-top-color: var(--fill-color);\n",
              "    }\n",
              "    30% {\n",
              "      border-color: transparent;\n",
              "      border-left-color: var(--fill-color);\n",
              "      border-top-color: var(--fill-color);\n",
              "      border-right-color: var(--fill-color);\n",
              "    }\n",
              "    40% {\n",
              "      border-color: transparent;\n",
              "      border-right-color: var(--fill-color);\n",
              "      border-top-color: var(--fill-color);\n",
              "    }\n",
              "    60% {\n",
              "      border-color: transparent;\n",
              "      border-right-color: var(--fill-color);\n",
              "    }\n",
              "    80% {\n",
              "      border-color: transparent;\n",
              "      border-right-color: var(--fill-color);\n",
              "      border-bottom-color: var(--fill-color);\n",
              "    }\n",
              "    90% {\n",
              "      border-color: transparent;\n",
              "      border-bottom-color: var(--fill-color);\n",
              "    }\n",
              "  }\n",
              "</style>\n",
              "\n",
              "  <script>\n",
              "    async function quickchart(key) {\n",
              "      const quickchartButtonEl =\n",
              "        document.querySelector('#' + key + ' button');\n",
              "      quickchartButtonEl.disabled = true;  // To prevent multiple clicks.\n",
              "      quickchartButtonEl.classList.add('colab-df-spinner');\n",
              "      try {\n",
              "        const charts = await google.colab.kernel.invokeFunction(\n",
              "            'suggestCharts', [key], {});\n",
              "      } catch (error) {\n",
              "        console.error('Error during call to suggestCharts:', error);\n",
              "      }\n",
              "      quickchartButtonEl.classList.remove('colab-df-spinner');\n",
              "      quickchartButtonEl.classList.add('colab-df-quickchart-complete');\n",
              "    }\n",
              "    (() => {\n",
              "      let quickchartButtonEl =\n",
              "        document.querySelector('#df-87716983-d7b6-4794-92b4-1eaf42c0702a button');\n",
              "      quickchartButtonEl.style.display =\n",
              "        google.colab.kernel.accessAllowed ? 'block' : 'none';\n",
              "    })();\n",
              "  </script>\n",
              "</div>\n",
              "\n",
              "    </div>\n",
              "  </div>\n"
            ],
            "application/vnd.google.colaboratory.intrinsic+json": {
              "type": "dataframe",
              "variable_name": "df",
              "summary": "{\n  \"name\": \"df\",\n  \"rows\": 30,\n  \"fields\": [\n    {\n      \"column\": \"topic\",\n      \"properties\": {\n        \"dtype\": \"string\",\n        \"num_unique_values\": 30,\n        \"samples\": [\n          \"C++\",\n          \"Bitcoin\",\n          \"Code quality\"\n        ],\n        \"semantic_type\": \"\",\n        \"description\": \"\"\n      }\n    },\n    {\n      \"column\": \"topic_desc\",\n      \"properties\": {\n        \"dtype\": \"string\",\n        \"num_unique_values\": 30,\n        \"samples\": [\n          \"C++ is a general purpose and object-oriented programming language.\",\n          \"Bitcoin is a cryptocurrency developed by Satoshi Nakamoto.\",\n          \"Automate your code review with style, quality, security, and test\\u2011coverage checks when you need them.\"\n        ],\n        \"semantic_type\": \"\",\n        \"description\": \"\"\n      }\n    },\n    {\n      \"column\": \"topic_URL\",\n      \"properties\": {\n        \"dtype\": \"string\",\n        \"num_unique_values\": 30,\n        \"samples\": [\n          \"https://github.com/topics/cpp\",\n          \"https://github.com/topics/bitcoin\",\n          \"https://github.com/topics/code-quality\"\n        ],\n        \"semantic_type\": \"\",\n        \"description\": \"\"\n      }\n    }\n  ]\n}"
            }
          },
          "metadata": {},
          "execution_count": 31
        }
      ]
    },
    {
      "cell_type": "code",
      "source": [
        "df.shape"
      ],
      "metadata": {
        "id": "Z5pOTPTGRAgt",
        "colab": {
          "base_uri": "https://localhost:8080/"
        },
        "outputId": "407deb60-5c59-4bba-dfcd-4f6bbd377b8f"
      },
      "execution_count": null,
      "outputs": [
        {
          "output_type": "execute_result",
          "data": {
            "text/plain": [
              "(30, 3)"
            ]
          },
          "metadata": {},
          "execution_count": 32
        }
      ]
    },
    {
      "cell_type": "markdown",
      "source": [
        "We can find CSV file in file icon given at left pannel in Google colab."
      ],
      "metadata": {
        "id": "utHdAn_iy3FN"
      }
    },
    {
      "cell_type": "markdown",
      "source": [
        "- Saves the DataFrame **`df`** to a CSV file named **`topics.csv`**.  \n",
        "- Sets `index=None` to exclude the index column from the CSV file."
      ],
      "metadata": {
        "id": "B0_YRgQDFwlz"
      }
    },
    {
      "cell_type": "code",
      "source": [
        "# 'index = None' will not include index in csv file\n",
        "df.to_csv('topics.csv', index=None)"
      ],
      "metadata": {
        "id": "ZytSNWSuRuPI"
      },
      "execution_count": null,
      "outputs": []
    },
    {
      "cell_type": "markdown",
      "source": [
        "### **Getting Information out of a topic page**"
      ],
      "metadata": {
        "id": "mA3J_ien2TPS"
      }
    },
    {
      "cell_type": "markdown",
      "source": [
        "- Extracts the **URL** of the first topic page from the `topic_urls` list.  \n",
        "- Displays the URL for verification before further processing."
      ],
      "metadata": {
        "id": "c_HeN7n8F56p"
      }
    },
    {
      "cell_type": "code",
      "source": [
        "topic_page_url0 = topic_urls[0]\n",
        "\n",
        "topic_page_url0"
      ],
      "metadata": {
        "colab": {
          "base_uri": "https://localhost:8080/",
          "height": 35
        },
        "id": "Lv_L2_o52bel",
        "outputId": "03d71cb3-dd8e-4bd2-ce3c-ff8d9d3e7df0"
      },
      "execution_count": null,
      "outputs": [
        {
          "output_type": "execute_result",
          "data": {
            "text/plain": [
              "'https://github.com/topics/3d'"
            ],
            "application/vnd.google.colaboratory.intrinsic+json": {
              "type": "string"
            }
          },
          "metadata": {},
          "execution_count": 34
        }
      ]
    },
    {
      "cell_type": "markdown",
      "source": [
        "- Sends a **GET** request to the first topic page URL.  \n",
        "- Displays the **HTTP status code** to check if the request was successful (`200` indicates success)."
      ],
      "metadata": {
        "id": "70Z3kO5oGAe6"
      }
    },
    {
      "cell_type": "code",
      "source": [
        "response = requests.get(topic_page_url0)\n",
        "\n",
        "response.status_code"
      ],
      "metadata": {
        "colab": {
          "base_uri": "https://localhost:8080/"
        },
        "id": "vAPvFON-2cIx",
        "outputId": "66025a19-eb26-4f59-f8e5-5d4a4ba8f3cc"
      },
      "execution_count": null,
      "outputs": [
        {
          "output_type": "execute_result",
          "data": {
            "text/plain": [
              "200"
            ]
          },
          "metadata": {},
          "execution_count": 35
        }
      ]
    },
    {
      "cell_type": "code",
      "source": [
        "len(response.text)"
      ],
      "metadata": {
        "colab": {
          "base_uri": "https://localhost:8080/"
        },
        "id": "Oo0A6IUt2cF2",
        "outputId": "e4295618-1687-4f3c-e982-c4ca131fdbe6"
      },
      "execution_count": null,
      "outputs": [
        {
          "output_type": "execute_result",
          "data": {
            "text/plain": [
              "514426"
            ]
          },
          "metadata": {},
          "execution_count": 36
        }
      ]
    },
    {
      "cell_type": "markdown",
      "source": [
        "- Parses the HTML content of the topic page using **BeautifulSoup**.  \n",
        "- Stores the parsed HTML in `topic_doc` for further data extraction."
      ],
      "metadata": {
        "id": "im_wQcCjGF0k"
      }
    },
    {
      "cell_type": "code",
      "source": [
        "topic_doc = BeautifulSoup(response.text, 'html.parser')"
      ],
      "metadata": {
        "id": "2P0vLUNr2cC3"
      },
      "execution_count": null,
      "outputs": []
    },
    {
      "cell_type": "markdown",
      "source": [
        "- Extracts all `<h3>` tags with the specified class, which likely contain repository names.  \n",
        "- Stores the extracted tags in `repo_tags` for further processing."
      ],
      "metadata": {
        "id": "Tiglx4goGO6s"
      }
    },
    {
      "cell_type": "markdown",
      "source": [
        "![](https://i.imgur.com/TYg4LQf.png)"
      ],
      "metadata": {
        "id": "zm2k8JMBMAMS"
      }
    },
    {
      "cell_type": "code",
      "source": [
        "repo_tags = topic_doc.find_all('h3', { 'class' : 'f3 color-fg-muted text-normal lh-condensed' } )"
      ],
      "metadata": {
        "id": "J0v2N54h3ZXX"
      },
      "execution_count": null,
      "outputs": []
    },
    {
      "cell_type": "code",
      "source": [
        "len(repo_tags)"
      ],
      "metadata": {
        "colab": {
          "base_uri": "https://localhost:8080/"
        },
        "id": "d2_bmghA3ZS4",
        "outputId": "4680fb57-37f6-4511-f1fa-35d09bc285ac"
      },
      "execution_count": null,
      "outputs": [
        {
          "output_type": "execute_result",
          "data": {
            "text/plain": [
              "20"
            ]
          },
          "metadata": {},
          "execution_count": 39
        }
      ]
    },
    {
      "cell_type": "code",
      "source": [
        "repo_tags[0].text.split('\\n')"
      ],
      "metadata": {
        "colab": {
          "base_uri": "https://localhost:8080/"
        },
        "id": "f2WplVE_3ZN7",
        "outputId": "0fefdd4b-be04-4ee8-9ec7-ebc45ecc63fa"
      },
      "execution_count": null,
      "outputs": [
        {
          "output_type": "execute_result",
          "data": {
            "text/plain": [
              "['', 'mrdoob          /', '          three.js ']"
            ]
          },
          "metadata": {},
          "execution_count": 40
        }
      ]
    },
    {
      "cell_type": "markdown",
      "source": [
        "- Extracts all `<a>` tags from the first repository tag (`repo_tags[0]`).  \n",
        "- Displays the extracted anchor tags."
      ],
      "metadata": {
        "id": "z1dsKRo8GbuZ"
      }
    },
    {
      "cell_type": "code",
      "source": [
        "a_tags0 = repo_tags[0].find_all('a')\n",
        "a_tags0"
      ],
      "metadata": {
        "colab": {
          "base_uri": "https://localhost:8080/"
        },
        "id": "YjNAEBUS6hPk",
        "outputId": "1f5b1666-ff4c-4db6-95ae-6da0b2df1893"
      },
      "execution_count": null,
      "outputs": [
        {
          "output_type": "execute_result",
          "data": {
            "text/plain": [
              "[<a class=\"Link\" data-hydro-click='{\"event_type\":\"explore.click\",\"payload\":{\"click_context\":\"REPOSITORY_CARD\",\"click_target\":\"OWNER\",\"click_visual_representation\":\"REPOSITORY_OWNER_HEADING\",\"actor_id\":null,\"record_id\":97088,\"originating_url\":\"https://github.com/topics/3d\",\"user_id\":null}}' data-hydro-click-hmac=\"c72fbd5c69a8ee7c9c53a4e65de2b93c8fc7552dd793945819639bc165c0f0ba\" data-turbo=\"false\" data-view-component=\"true\" href=\"/mrdoob\">mrdoob</a>,\n",
              " <a class=\"Link text-bold wb-break-word\" data-hydro-click='{\"event_type\":\"explore.click\",\"payload\":{\"click_context\":\"REPOSITORY_CARD\",\"click_target\":\"REPOSITORY\",\"click_visual_representation\":\"REPOSITORY_NAME_HEADING\",\"actor_id\":null,\"record_id\":576201,\"originating_url\":\"https://github.com/topics/3d\",\"user_id\":null}}' data-hydro-click-hmac=\"4a2667db3d63a1739c412e059e5da95afe419df83f70949b5d59dc3478f5c79a\" data-turbo=\"false\" data-view-component=\"true\" href=\"/mrdoob/three.js\">three.js</a>]"
            ]
          },
          "metadata": {},
          "execution_count": 41
        }
      ]
    },
    {
      "cell_type": "markdown",
      "source": [
        "- Retrieves the **href** attribute from the second `<a>` tag in `a_tags0`.  \n",
        "- Likely represents the repository's relative URL on GitHub."
      ],
      "metadata": {
        "id": "L-NM0ZPHGo1l"
      }
    },
    {
      "cell_type": "code",
      "source": [
        "a_tags0[1]['href']"
      ],
      "metadata": {
        "colab": {
          "base_uri": "https://localhost:8080/",
          "height": 35
        },
        "id": "NkcSCbcn9NhC",
        "outputId": "059bdec9-24f0-4df3-e1b3-c4a2e75cdc87"
      },
      "execution_count": null,
      "outputs": [
        {
          "output_type": "execute_result",
          "data": {
            "text/plain": [
              "'/mrdoob/three.js'"
            ],
            "application/vnd.google.colaboratory.intrinsic+json": {
              "type": "string"
            }
          },
          "metadata": {},
          "execution_count": 42
        }
      ]
    },
    {
      "cell_type": "code",
      "source": [
        "a_tags0[0].text"
      ],
      "metadata": {
        "colab": {
          "base_uri": "https://localhost:8080/",
          "height": 35
        },
        "id": "Q1_G77rP8vCN",
        "outputId": "6a797acb-1448-4e1b-8310-224e94b71911"
      },
      "execution_count": null,
      "outputs": [
        {
          "output_type": "execute_result",
          "data": {
            "text/plain": [
              "'mrdoob'"
            ],
            "application/vnd.google.colaboratory.intrinsic+json": {
              "type": "string"
            }
          },
          "metadata": {},
          "execution_count": 43
        }
      ]
    },
    {
      "cell_type": "markdown",
      "source": [
        "- Initializes empty lists to store **usernames, repository names, and repository URLs**.  \n",
        "- Iterates through `repo_tags` to extract:  \n",
        "  - **Username** from the first `<a>` tag.  \n",
        "  - **Repository name** from the second `<a>` tag.  \n",
        "  - **Full repository URL** by appending the **href** value to `base_url`."
      ],
      "metadata": {
        "id": "ik7-dAyEG68j"
      }
    },
    {
      "cell_type": "code",
      "source": [
        "usernames = []\n",
        "repository_names = []\n",
        "repository_urls = []\n",
        "base_url = 'https://www.github.com'\n",
        "\n",
        "for tags in repo_tags:\n",
        "  a_tags = tags.find_all('a')\n",
        "  usernames.append(a_tags[0].text)\n",
        "  repository_names.append(a_tags[1].text)\n",
        "  repository_urls.append(base_url + a_tags[1]['href'])"
      ],
      "metadata": {
        "id": "AvUgRgiE8u_I"
      },
      "execution_count": null,
      "outputs": []
    },
    {
      "cell_type": "code",
      "source": [
        "usernames[:5]"
      ],
      "metadata": {
        "colab": {
          "base_uri": "https://localhost:8080/"
        },
        "id": "9v0TaslP8u7h",
        "outputId": "b1d8eb04-3edc-4308-e40e-9c5ecd16ec60"
      },
      "execution_count": null,
      "outputs": [
        {
          "output_type": "execute_result",
          "data": {
            "text/plain": [
              "['mrdoob', 'pmndrs', 'libgdx', 'BabylonJS', 'FreeCAD']"
            ]
          },
          "metadata": {},
          "execution_count": 45
        }
      ]
    },
    {
      "cell_type": "code",
      "source": [
        "repository_names[:5]"
      ],
      "metadata": {
        "colab": {
          "base_uri": "https://localhost:8080/"
        },
        "id": "jC0VUxVACtz7",
        "outputId": "547b55ef-88e6-4aee-98e3-71306a4002a3"
      },
      "execution_count": null,
      "outputs": [
        {
          "output_type": "execute_result",
          "data": {
            "text/plain": [
              "['three.js', 'react-three-fiber', 'libgdx', 'Babylon.js', 'FreeCAD']"
            ]
          },
          "metadata": {},
          "execution_count": 46
        }
      ]
    },
    {
      "cell_type": "code",
      "source": [
        "repository_urls[:5]"
      ],
      "metadata": {
        "colab": {
          "base_uri": "https://localhost:8080/"
        },
        "id": "iS9MXFivCtuA",
        "outputId": "ecce1a70-2584-45af-a986-28be096aaaba"
      },
      "execution_count": null,
      "outputs": [
        {
          "output_type": "execute_result",
          "data": {
            "text/plain": [
              "['https://www.github.com/mrdoob/three.js',\n",
              " 'https://www.github.com/pmndrs/react-three-fiber',\n",
              " 'https://www.github.com/libgdx/libgdx',\n",
              " 'https://www.github.com/BabylonJS/Babylon.js',\n",
              " 'https://www.github.com/FreeCAD/FreeCAD']"
            ]
          },
          "metadata": {},
          "execution_count": 47
        }
      ]
    },
    {
      "cell_type": "markdown",
      "source": [
        "- Extracts all `<span>` tags with the **ID** `'repo-stars-counter-star'`, which likely contain star counts.  \n",
        "- Retrieves the **text** from the third (`index 2`) star tag to check its value."
      ],
      "metadata": {
        "id": "WDmXlX3PHFWf"
      }
    },
    {
      "cell_type": "markdown",
      "source": [
        "![](https://i.imgur.com/MkAawLX.png)"
      ],
      "metadata": {
        "id": "pPzhXHMJM_MT"
      }
    },
    {
      "cell_type": "code",
      "source": [
        "star_tags = topic_doc.find_all('span', { 'id' : 'repo-stars-counter-star'})\n",
        "star_tags[2].text"
      ],
      "metadata": {
        "colab": {
          "base_uri": "https://localhost:8080/",
          "height": 35
        },
        "id": "lDY68A04CtrU",
        "outputId": "287a656d-1813-4176-d2ee-f555ff66588a"
      },
      "execution_count": null,
      "outputs": [
        {
          "output_type": "execute_result",
          "data": {
            "text/plain": [
              "'23.8k'"
            ],
            "application/vnd.google.colaboratory.intrinsic+json": {
              "type": "string"
            }
          },
          "metadata": {},
          "execution_count": 48
        }
      ]
    },
    {
      "cell_type": "markdown",
      "source": [
        "- Defines a function `parse_star_count(stars_str)` to convert GitHub star counts into integers.  \n",
        "- **Logic:**  \n",
        "  - Strips any extra spaces.  \n",
        "  - If the last character is `'k'`, converts the value to an integer by multiplying by **1000**.  \n",
        "  - Otherwise, directly converts the string to an integer."
      ],
      "metadata": {
        "id": "7owI_U-kHLch"
      }
    },
    {
      "cell_type": "code",
      "source": [
        "def parse_star_count(stars_str):\n",
        "  stars_str = stars_str.strip()\n",
        "  if stars_str[-1] == 'k':\n",
        "    return int(float(stars_str[:-1]) * 1000)\n",
        "  return int(stars_str)"
      ],
      "metadata": {
        "id": "7izVDYxHFTQv"
      },
      "execution_count": null,
      "outputs": []
    },
    {
      "cell_type": "markdown",
      "source": [
        "- Calls `parse_star_count()` on the text of the third (`index 2`) star tag.  \n",
        "- Converts the extracted star count into an integer, to check function works fine or need improvements."
      ],
      "metadata": {
        "id": "8wBZns7iHSdm"
      }
    },
    {
      "cell_type": "code",
      "source": [
        "parse_star_count(star_tags[2].text)"
      ],
      "metadata": {
        "colab": {
          "base_uri": "https://localhost:8080/"
        },
        "id": "5ebMtVcAFTN5",
        "outputId": "f01c8683-0418-4bce-ef9d-c1d4240a43b6"
      },
      "execution_count": null,
      "outputs": [
        {
          "output_type": "execute_result",
          "data": {
            "text/plain": [
              "23800"
            ]
          },
          "metadata": {},
          "execution_count": 50
        }
      ]
    },
    {
      "cell_type": "markdown",
      "source": [
        "- Defines `get_single_repo_info(h1_tag, star_tag)` to extract repository details.  \n",
        "- **Extracts:**  \n",
        "  - **Username** from the first `<a>` tag.  \n",
        "  - **Repository name** from the second `<a>` tag.  \n",
        "  - **Repository URL** by appending the **href** value to `base_url`.  \n",
        "  - **Star count** using `parse_star_count()`.  \n",
        "- Returns **(username, repository name, star count, repository URL)** as a tuple."
      ],
      "metadata": {
        "id": "rINz-c9gHj-e"
      }
    },
    {
      "cell_type": "code",
      "source": [
        "def get_single_repo_info(h1_tag, star_tag):\n",
        "  # Get Username, Repository Name and Repository URL\n",
        "  base_url = 'https://www.github.com'\n",
        "  a_tags = h1_tag.find_all('a')\n",
        "  username = a_tags[0].text\n",
        "  repository_name = a_tags[1].text\n",
        "  repository_url = base_url + a_tags[1]['href']\n",
        "\n",
        "  # Get Star Info\n",
        "  star_str = star_tag.text\n",
        "  star_count = parse_star_count(star_str)\n",
        "\n",
        "  return username, repository_name, star_count, repository_url"
      ],
      "metadata": {
        "id": "B8bwbXMdFTK5"
      },
      "execution_count": null,
      "outputs": []
    },
    {
      "cell_type": "markdown",
      "source": [
        "In fucntion, we have add procedure to scrape details of username, repository_name and respository_url, although we have scraped it already but it will makes things easy when we get info about more than one topics"
      ],
      "metadata": {
        "id": "IzWtQqqsH9vj"
      }
    },
    {
      "cell_type": "code",
      "source": [
        "def get_topic_page(topic_url):\n",
        "  # Download the Page\n",
        "  response = requests.get(topic_url)\n",
        "\n",
        "  # Check Successful response\n",
        "  if response.status_code != 200:\n",
        "    raise Exception('Failed to load page {}'.format(topic_url))\n",
        "\n",
        "\n",
        "  # Parse using beautifulsoup\n",
        "  topic_doc = BeautifulSoup(response.text, 'html.parser')\n",
        "\n",
        "  return topic_doc\n",
        "\n",
        "\n",
        "def get_single_repo_info(h1_tag, star_tag):\n",
        "  # Get Username, Repository Name and Repository URL\n",
        "  base_url = 'https://www.github.com'\n",
        "  a_tags = h1_tag.find_all('a')\n",
        "  username = a_tags[0].text\n",
        "  repository_name = a_tags[1].text\n",
        "  repository_url = base_url + a_tags[1]['href']\n",
        "\n",
        "  # Get Star Info\n",
        "  star_str = star_tag.text\n",
        "  star_count = parse_star_count(star_str)\n",
        "\n",
        "  return username, repository_name, star_count, repository_url\n",
        "\n",
        "\n",
        "def get_single_topic_info(topic_doc):\n",
        "\n",
        "  # Get the h1 tag that contains repo title, repo URL and username\n",
        "  repo_tags = topic_doc.find_all('h3', { 'class' : 'f3 color-fg-muted text-normal lh-condensed' })\n",
        "\n",
        "  # Get star tags that contains star information\n",
        "  star_tags = topic_doc.find_all('span', { 'id' : 'repo-stars-counter-star'})\n",
        "\n",
        "\n",
        "  single_topic_info = {\n",
        "      'username' : [],\n",
        "      'repository_name' : [],\n",
        "      'star_count' : [],\n",
        "      'repository_url' : []\n",
        "  }\n",
        "\n",
        "  # Get repo information\n",
        "  if len(repo_tags) == len(star_tags):\n",
        "    for i in range(len(repo_tags)):\n",
        "      repo_info = get_single_repo_info(repo_tags[i], star_tags[i])\n",
        "      single_topic_info['username'].append(repo_info[0])\n",
        "      single_topic_info['repository_name'].append(repo_info[1])\n",
        "      single_topic_info['star_count'].append(repo_info[2])\n",
        "      single_topic_info['repository_url'].append(repo_info[3])\n",
        "  else:\n",
        "    print('Length of list \\'repo_tags\\' and list \\'star_tags\\' are not equal')\n",
        "  return pd.DataFrame(data = single_topic_info)"
      ],
      "metadata": {
        "id": "JpvTh4YFIczf"
      },
      "execution_count": null,
      "outputs": []
    },
    {
      "cell_type": "markdown",
      "source": [
        "- Defines `scrape_topics()` to extract GitHub topics and their details.  \n",
        "- **Steps:**  \n",
        "  1. Sends a **GET** request to `'https://github.com/topics'`.  \n",
        "  2. Parses the HTML using **BeautifulSoup**.  \n",
        "  3. Extracts:  \n",
        "     - **Topic titles** (`<p>` tags with a specific class).  \n",
        "     - **Topic descriptions** (`<p>` tags with another class).  \n",
        "     - **Topic URLs** (`<a>` tags with a unique class).  \n",
        "  4. Checks if all extracted lists have the same length to ensure data consistency.  \n",
        "  5. Appends extracted details into a dictionary (`data`).  \n",
        "  6. Converts `data` into a **Pandas DataFrame** and returns it."
      ],
      "metadata": {
        "id": "qk1Q7DwYHznc"
      }
    },
    {
      "cell_type": "code",
      "source": [
        "def scrape_topics():\n",
        "  topics_url = 'https://github.com/topics'\n",
        "\n",
        "  response = requests.get(topics_url)\n",
        "  if response.status_code != 200:\n",
        "    raise Exception('Failed to load page {}'.format(topics_url))\n",
        "\n",
        "  doc = BeautifulSoup(response.text, 'html.parser')\n",
        "\n",
        "  selection_class = 'f3 lh-condensed mb-0 mt-1 Link--primary'\n",
        "  topic_title_tags = doc.find_all('p', {'class': selection_class})\n",
        "\n",
        "  desc_selector = 'f5 color-fg-muted mb-0 mt-1'\n",
        "  topic_desc_tags = doc.find_all('p', {'class': desc_selector})\n",
        "\n",
        "  url_selector = 'no-underline flex-1 d-flex flex-column'\n",
        "  topic_link_tags = doc.find_all('a', {'class': url_selector})\n",
        "\n",
        "  data = {\n",
        "      'topic': [],\n",
        "      'topic_desc': [],\n",
        "      'topic_url': [],\n",
        "  }\n",
        "\n",
        "  base_url = 'https://www.github.com'\n",
        "\n",
        "  if (len(topic_title_tags) == len(topic_desc_tags)) and (len(topic_desc_tags) == len(topic_link_tags)):\n",
        "    for i in range(len(topic_title_tags)):\n",
        "      data['topic'].append(topic_title_tags[i].text)\n",
        "      data['topic_desc'].append(topic_desc_tags[i].text.strip())\n",
        "      data['topic_url'].append(base_url + topic_link_tags[i]['href'])\n",
        "  else:\n",
        "    print('Length of list \\'topic_title_tags\\' and list \\'topic_desc_tags\\' and list \\'topic_link_tags\\' are not equal')\n",
        "\n",
        "  return pd.DataFrame(data = data)\n"
      ],
      "metadata": {
        "id": "0KE7K2Sw87xk"
      },
      "execution_count": null,
      "outputs": []
    },
    {
      "cell_type": "code",
      "source": [
        "topics = scrape_topics()\n",
        "topics.head()"
      ],
      "metadata": {
        "colab": {
          "base_uri": "https://localhost:8080/",
          "height": 206
        },
        "id": "HBn4nDUP87rB",
        "outputId": "17e9e38f-5290-47c3-91e4-570ab89c32c6"
      },
      "execution_count": null,
      "outputs": [
        {
          "output_type": "execute_result",
          "data": {
            "text/plain": [
              "       topic                                         topic_desc  \\\n",
              "0         3D  3D refers to the use of three-dimensional grap...   \n",
              "1       Ajax  Ajax is a technique for creating interactive w...   \n",
              "2  Algorithm  Algorithms are self-contained sequences that c...   \n",
              "3        Amp  Amp is a non-blocking concurrency library for ...   \n",
              "4    Android  Android is an operating system built by Google...   \n",
              "\n",
              "                                 topic_url  \n",
              "0         https://www.github.com/topics/3d  \n",
              "1       https://www.github.com/topics/ajax  \n",
              "2  https://www.github.com/topics/algorithm  \n",
              "3      https://www.github.com/topics/amphp  \n",
              "4    https://www.github.com/topics/android  "
            ],
            "text/html": [
              "\n",
              "  <div id=\"df-a06ae9a6-bd7e-4602-b205-b4a9d3b3840c\" class=\"colab-df-container\">\n",
              "    <div>\n",
              "<style scoped>\n",
              "    .dataframe tbody tr th:only-of-type {\n",
              "        vertical-align: middle;\n",
              "    }\n",
              "\n",
              "    .dataframe tbody tr th {\n",
              "        vertical-align: top;\n",
              "    }\n",
              "\n",
              "    .dataframe thead th {\n",
              "        text-align: right;\n",
              "    }\n",
              "</style>\n",
              "<table border=\"1\" class=\"dataframe\">\n",
              "  <thead>\n",
              "    <tr style=\"text-align: right;\">\n",
              "      <th></th>\n",
              "      <th>topic</th>\n",
              "      <th>topic_desc</th>\n",
              "      <th>topic_url</th>\n",
              "    </tr>\n",
              "  </thead>\n",
              "  <tbody>\n",
              "    <tr>\n",
              "      <th>0</th>\n",
              "      <td>3D</td>\n",
              "      <td>3D refers to the use of three-dimensional grap...</td>\n",
              "      <td>https://www.github.com/topics/3d</td>\n",
              "    </tr>\n",
              "    <tr>\n",
              "      <th>1</th>\n",
              "      <td>Ajax</td>\n",
              "      <td>Ajax is a technique for creating interactive w...</td>\n",
              "      <td>https://www.github.com/topics/ajax</td>\n",
              "    </tr>\n",
              "    <tr>\n",
              "      <th>2</th>\n",
              "      <td>Algorithm</td>\n",
              "      <td>Algorithms are self-contained sequences that c...</td>\n",
              "      <td>https://www.github.com/topics/algorithm</td>\n",
              "    </tr>\n",
              "    <tr>\n",
              "      <th>3</th>\n",
              "      <td>Amp</td>\n",
              "      <td>Amp is a non-blocking concurrency library for ...</td>\n",
              "      <td>https://www.github.com/topics/amphp</td>\n",
              "    </tr>\n",
              "    <tr>\n",
              "      <th>4</th>\n",
              "      <td>Android</td>\n",
              "      <td>Android is an operating system built by Google...</td>\n",
              "      <td>https://www.github.com/topics/android</td>\n",
              "    </tr>\n",
              "  </tbody>\n",
              "</table>\n",
              "</div>\n",
              "    <div class=\"colab-df-buttons\">\n",
              "\n",
              "  <div class=\"colab-df-container\">\n",
              "    <button class=\"colab-df-convert\" onclick=\"convertToInteractive('df-a06ae9a6-bd7e-4602-b205-b4a9d3b3840c')\"\n",
              "            title=\"Convert this dataframe to an interactive table.\"\n",
              "            style=\"display:none;\">\n",
              "\n",
              "  <svg xmlns=\"http://www.w3.org/2000/svg\" height=\"24px\" viewBox=\"0 -960 960 960\">\n",
              "    <path d=\"M120-120v-720h720v720H120Zm60-500h600v-160H180v160Zm220 220h160v-160H400v160Zm0 220h160v-160H400v160ZM180-400h160v-160H180v160Zm440 0h160v-160H620v160ZM180-180h160v-160H180v160Zm440 0h160v-160H620v160Z\"/>\n",
              "  </svg>\n",
              "    </button>\n",
              "\n",
              "  <style>\n",
              "    .colab-df-container {\n",
              "      display:flex;\n",
              "      gap: 12px;\n",
              "    }\n",
              "\n",
              "    .colab-df-convert {\n",
              "      background-color: #E8F0FE;\n",
              "      border: none;\n",
              "      border-radius: 50%;\n",
              "      cursor: pointer;\n",
              "      display: none;\n",
              "      fill: #1967D2;\n",
              "      height: 32px;\n",
              "      padding: 0 0 0 0;\n",
              "      width: 32px;\n",
              "    }\n",
              "\n",
              "    .colab-df-convert:hover {\n",
              "      background-color: #E2EBFA;\n",
              "      box-shadow: 0px 1px 2px rgba(60, 64, 67, 0.3), 0px 1px 3px 1px rgba(60, 64, 67, 0.15);\n",
              "      fill: #174EA6;\n",
              "    }\n",
              "\n",
              "    .colab-df-buttons div {\n",
              "      margin-bottom: 4px;\n",
              "    }\n",
              "\n",
              "    [theme=dark] .colab-df-convert {\n",
              "      background-color: #3B4455;\n",
              "      fill: #D2E3FC;\n",
              "    }\n",
              "\n",
              "    [theme=dark] .colab-df-convert:hover {\n",
              "      background-color: #434B5C;\n",
              "      box-shadow: 0px 1px 3px 1px rgba(0, 0, 0, 0.15);\n",
              "      filter: drop-shadow(0px 1px 2px rgba(0, 0, 0, 0.3));\n",
              "      fill: #FFFFFF;\n",
              "    }\n",
              "  </style>\n",
              "\n",
              "    <script>\n",
              "      const buttonEl =\n",
              "        document.querySelector('#df-a06ae9a6-bd7e-4602-b205-b4a9d3b3840c button.colab-df-convert');\n",
              "      buttonEl.style.display =\n",
              "        google.colab.kernel.accessAllowed ? 'block' : 'none';\n",
              "\n",
              "      async function convertToInteractive(key) {\n",
              "        const element = document.querySelector('#df-a06ae9a6-bd7e-4602-b205-b4a9d3b3840c');\n",
              "        const dataTable =\n",
              "          await google.colab.kernel.invokeFunction('convertToInteractive',\n",
              "                                                    [key], {});\n",
              "        if (!dataTable) return;\n",
              "\n",
              "        const docLinkHtml = 'Like what you see? Visit the ' +\n",
              "          '<a target=\"_blank\" href=https://colab.research.google.com/notebooks/data_table.ipynb>data table notebook</a>'\n",
              "          + ' to learn more about interactive tables.';\n",
              "        element.innerHTML = '';\n",
              "        dataTable['output_type'] = 'display_data';\n",
              "        await google.colab.output.renderOutput(dataTable, element);\n",
              "        const docLink = document.createElement('div');\n",
              "        docLink.innerHTML = docLinkHtml;\n",
              "        element.appendChild(docLink);\n",
              "      }\n",
              "    </script>\n",
              "  </div>\n",
              "\n",
              "\n",
              "<div id=\"df-10bd966b-1dff-4f51-8a43-c42798b298bd\">\n",
              "  <button class=\"colab-df-quickchart\" onclick=\"quickchart('df-10bd966b-1dff-4f51-8a43-c42798b298bd')\"\n",
              "            title=\"Suggest charts\"\n",
              "            style=\"display:none;\">\n",
              "\n",
              "<svg xmlns=\"http://www.w3.org/2000/svg\" height=\"24px\"viewBox=\"0 0 24 24\"\n",
              "     width=\"24px\">\n",
              "    <g>\n",
              "        <path d=\"M19 3H5c-1.1 0-2 .9-2 2v14c0 1.1.9 2 2 2h14c1.1 0 2-.9 2-2V5c0-1.1-.9-2-2-2zM9 17H7v-7h2v7zm4 0h-2V7h2v10zm4 0h-2v-4h2v4z\"/>\n",
              "    </g>\n",
              "</svg>\n",
              "  </button>\n",
              "\n",
              "<style>\n",
              "  .colab-df-quickchart {\n",
              "      --bg-color: #E8F0FE;\n",
              "      --fill-color: #1967D2;\n",
              "      --hover-bg-color: #E2EBFA;\n",
              "      --hover-fill-color: #174EA6;\n",
              "      --disabled-fill-color: #AAA;\n",
              "      --disabled-bg-color: #DDD;\n",
              "  }\n",
              "\n",
              "  [theme=dark] .colab-df-quickchart {\n",
              "      --bg-color: #3B4455;\n",
              "      --fill-color: #D2E3FC;\n",
              "      --hover-bg-color: #434B5C;\n",
              "      --hover-fill-color: #FFFFFF;\n",
              "      --disabled-bg-color: #3B4455;\n",
              "      --disabled-fill-color: #666;\n",
              "  }\n",
              "\n",
              "  .colab-df-quickchart {\n",
              "    background-color: var(--bg-color);\n",
              "    border: none;\n",
              "    border-radius: 50%;\n",
              "    cursor: pointer;\n",
              "    display: none;\n",
              "    fill: var(--fill-color);\n",
              "    height: 32px;\n",
              "    padding: 0;\n",
              "    width: 32px;\n",
              "  }\n",
              "\n",
              "  .colab-df-quickchart:hover {\n",
              "    background-color: var(--hover-bg-color);\n",
              "    box-shadow: 0 1px 2px rgba(60, 64, 67, 0.3), 0 1px 3px 1px rgba(60, 64, 67, 0.15);\n",
              "    fill: var(--button-hover-fill-color);\n",
              "  }\n",
              "\n",
              "  .colab-df-quickchart-complete:disabled,\n",
              "  .colab-df-quickchart-complete:disabled:hover {\n",
              "    background-color: var(--disabled-bg-color);\n",
              "    fill: var(--disabled-fill-color);\n",
              "    box-shadow: none;\n",
              "  }\n",
              "\n",
              "  .colab-df-spinner {\n",
              "    border: 2px solid var(--fill-color);\n",
              "    border-color: transparent;\n",
              "    border-bottom-color: var(--fill-color);\n",
              "    animation:\n",
              "      spin 1s steps(1) infinite;\n",
              "  }\n",
              "\n",
              "  @keyframes spin {\n",
              "    0% {\n",
              "      border-color: transparent;\n",
              "      border-bottom-color: var(--fill-color);\n",
              "      border-left-color: var(--fill-color);\n",
              "    }\n",
              "    20% {\n",
              "      border-color: transparent;\n",
              "      border-left-color: var(--fill-color);\n",
              "      border-top-color: var(--fill-color);\n",
              "    }\n",
              "    30% {\n",
              "      border-color: transparent;\n",
              "      border-left-color: var(--fill-color);\n",
              "      border-top-color: var(--fill-color);\n",
              "      border-right-color: var(--fill-color);\n",
              "    }\n",
              "    40% {\n",
              "      border-color: transparent;\n",
              "      border-right-color: var(--fill-color);\n",
              "      border-top-color: var(--fill-color);\n",
              "    }\n",
              "    60% {\n",
              "      border-color: transparent;\n",
              "      border-right-color: var(--fill-color);\n",
              "    }\n",
              "    80% {\n",
              "      border-color: transparent;\n",
              "      border-right-color: var(--fill-color);\n",
              "      border-bottom-color: var(--fill-color);\n",
              "    }\n",
              "    90% {\n",
              "      border-color: transparent;\n",
              "      border-bottom-color: var(--fill-color);\n",
              "    }\n",
              "  }\n",
              "</style>\n",
              "\n",
              "  <script>\n",
              "    async function quickchart(key) {\n",
              "      const quickchartButtonEl =\n",
              "        document.querySelector('#' + key + ' button');\n",
              "      quickchartButtonEl.disabled = true;  // To prevent multiple clicks.\n",
              "      quickchartButtonEl.classList.add('colab-df-spinner');\n",
              "      try {\n",
              "        const charts = await google.colab.kernel.invokeFunction(\n",
              "            'suggestCharts', [key], {});\n",
              "      } catch (error) {\n",
              "        console.error('Error during call to suggestCharts:', error);\n",
              "      }\n",
              "      quickchartButtonEl.classList.remove('colab-df-spinner');\n",
              "      quickchartButtonEl.classList.add('colab-df-quickchart-complete');\n",
              "    }\n",
              "    (() => {\n",
              "      let quickchartButtonEl =\n",
              "        document.querySelector('#df-10bd966b-1dff-4f51-8a43-c42798b298bd button');\n",
              "      quickchartButtonEl.style.display =\n",
              "        google.colab.kernel.accessAllowed ? 'block' : 'none';\n",
              "    })();\n",
              "  </script>\n",
              "</div>\n",
              "\n",
              "    </div>\n",
              "  </div>\n"
            ],
            "application/vnd.google.colaboratory.intrinsic+json": {
              "type": "dataframe",
              "variable_name": "topics",
              "summary": "{\n  \"name\": \"topics\",\n  \"rows\": 30,\n  \"fields\": [\n    {\n      \"column\": \"topic\",\n      \"properties\": {\n        \"dtype\": \"string\",\n        \"num_unique_values\": 30,\n        \"samples\": [\n          \"C++\",\n          \"Bitcoin\",\n          \"Code quality\"\n        ],\n        \"semantic_type\": \"\",\n        \"description\": \"\"\n      }\n    },\n    {\n      \"column\": \"topic_desc\",\n      \"properties\": {\n        \"dtype\": \"string\",\n        \"num_unique_values\": 30,\n        \"samples\": [\n          \"C++ is a general purpose and object-oriented programming language.\",\n          \"Bitcoin is a cryptocurrency developed by Satoshi Nakamoto.\",\n          \"Automate your code review with style, quality, security, and test\\u2011coverage checks when you need them.\"\n        ],\n        \"semantic_type\": \"\",\n        \"description\": \"\"\n      }\n    },\n    {\n      \"column\": \"topic_url\",\n      \"properties\": {\n        \"dtype\": \"string\",\n        \"num_unique_values\": 30,\n        \"samples\": [\n          \"https://www.github.com/topics/cpp\",\n          \"https://www.github.com/topics/bitcoin\",\n          \"https://www.github.com/topics/code-quality\"\n        ],\n        \"semantic_type\": \"\",\n        \"description\": \"\"\n      }\n    }\n  ]\n}"
            }
          },
          "metadata": {},
          "execution_count": 60
        }
      ]
    },
    {
      "cell_type": "markdown",
      "source": [
        "#### Finally we will download and save csvs of all topics and repos"
      ],
      "metadata": {
        "id": "CwCuv3-aDJLY"
      }
    },
    {
      "cell_type": "markdown",
      "source": [
        "- Defines `download_topic_repo_csvs(topics)` to scrape GitHub topics, generate CSV files, and download them as a ZIP archive.  \n",
        "- **Steps:**  \n",
        "  1. Creates a folder **`github_topic_wise_csv_files`** to store CSVs.  \n",
        "  2. Writes a **`Guide.txt`** file explaining the folder's contents.  \n",
        "  3. Scrapes GitHub topics and saves them in **`topics.csv`**.  \n",
        "  4. Iterates through each topic to:  \n",
        "     - Scrape the top 20 repositories.  \n",
        "     - Save them in a CSV file named **`<topic_name>.csv`**.  \n",
        "  5. Creates a ZIP archive of the folder.  \n",
        "  6. Downloads the ZIP file using `files.download()`.  \n",
        "  7. Prints a success message. ✅"
      ],
      "metadata": {
        "id": "8cGe4eoQH95S"
      }
    },
    {
      "cell_type": "code",
      "source": [
        "from google.colab import files\n",
        "\n",
        "def download_topic_repo_csvs(topics):\n",
        "  folder_name = \"github_topic_wise_csv_files\"\n",
        "  os.makedirs(folder_name, exist_ok=True)\n",
        "\n",
        "  txt_file_content = '''\n",
        "  This Zip folder contains main 'topics.csv' file that has list of topics on github that are trending.\n",
        "\n",
        "  And each topic in 'topics.csv' file will have github link of that topic.\n",
        "\n",
        "  By redirect to a specific topic link available in 'topics.csv', we get top 20 repositories of that topic, and that repository data is also available in zip folder.\n",
        "\n",
        "  Each topic in 'topics.csv' files has a separate csv file in zip folder by name 'topic_name.csv'.\n",
        "\n",
        "  Ex. In 'topics.csv' file has one topic name '3D' then there will be one file available in zip folder with name '3D.csv'.\n",
        "  and that '3D.csv' file contains list of top 20 repositories of topic '3D' with username, repository name, star in that repository and url of that repository.\n",
        "  '''\n",
        "\n",
        "  file_path_guide_txt = os.path.join(folder_name, 'Guide.txt')\n",
        "  with open(file_path_guide_txt, 'w') as file:\n",
        "    file.write(txt_file_content)\n",
        "\n",
        "  file_path_topic_csv = os.path.join(folder_name, 'topics.csv')\n",
        "  df = scrape_topics()\n",
        "  df.to_csv(file_path_topic_csv, index = None)\n",
        "\n",
        "  for index, row in topics.iterrows():\n",
        "    topic_doc = get_topic_page(row['topic_url'])\n",
        "    single_topic_df = get_single_topic_info(topic_doc)\n",
        "    fname = row['topic'] + '.csv'\n",
        "    file_path = os.path.join(folder_name, fname)\n",
        "    single_topic_df.to_csv(file_path, index = None)\n",
        "\n",
        "  shutil.make_archive(folder_name, 'zip', folder_name)\n",
        "  # shutil.make_archive(zip folder name, 'compression type ex. zip, tar, gztar', folder_name)\n",
        "\n",
        "  files.download('{}.zip'.format(folder_name))\n",
        "\n",
        "  print(\"✅All files zipped and downloaded successfully!\")\n",
        "\n"
      ],
      "metadata": {
        "id": "H03VcBcRP0_K"
      },
      "execution_count": null,
      "outputs": []
    },
    {
      "cell_type": "markdown",
      "source": [
        "Google Colab has a limitation where files.download() only works for about 10 files per session due to browser restrictions on multiple downloads. After that, it silently stops downloading without an error.\n",
        "\n",
        "So we store all csvs in one folder and zip that folder."
      ],
      "metadata": {
        "id": "Im17rDOdJlBR"
      }
    },
    {
      "cell_type": "markdown",
      "source": [
        "- **Imports required libraries**:  \n",
        "  - `requests` (for web requests)  \n",
        "  - `BeautifulSoup` (for web scraping)  \n",
        "  - `google.colab.files` (for file downloads)  \n",
        "  - `os` and `shutil` (for file handling and compression)  \n",
        "- **Runs the scraping workflow**:  \n",
        "  1. Calls `scrape_topics()` to get a DataFrame of GitHub topics.  \n",
        "  2. Passes the topics DataFrame to `download_topic_repo_csvs()`, which:  \n",
        "     - Scrapes repository data for each topic.  \n",
        "     - Saves topic-wise CSVs.  \n",
        "     - Creates a ZIP archive and downloads it. ✅"
      ],
      "metadata": {
        "id": "gTagE_PgINeE"
      }
    },
    {
      "cell_type": "code",
      "source": [
        "import requests\n",
        "from bs4 import BeautifulSoup\n",
        "from google.colab import files\n",
        "import os\n",
        "import shutil\n",
        "\n",
        "# above are required libraries to run below 2 functions\n",
        "\n",
        "topics = scrape_topics()\n",
        "download_topic_repo_csvs(topics)"
      ],
      "metadata": {
        "colab": {
          "base_uri": "https://localhost:8080/",
          "height": 34
        },
        "id": "gx19bz2SFss4",
        "outputId": "6a79f0f1-5f05-4693-f637-a4a1ee32d5bc"
      },
      "execution_count": null,
      "outputs": [
        {
          "output_type": "display_data",
          "data": {
            "text/plain": [
              "<IPython.core.display.Javascript object>"
            ],
            "application/javascript": [
              "\n",
              "    async function download(id, filename, size) {\n",
              "      if (!google.colab.kernel.accessAllowed) {\n",
              "        return;\n",
              "      }\n",
              "      const div = document.createElement('div');\n",
              "      const label = document.createElement('label');\n",
              "      label.textContent = `Downloading \"${filename}\": `;\n",
              "      div.appendChild(label);\n",
              "      const progress = document.createElement('progress');\n",
              "      progress.max = size;\n",
              "      div.appendChild(progress);\n",
              "      document.body.appendChild(div);\n",
              "\n",
              "      const buffers = [];\n",
              "      let downloaded = 0;\n",
              "\n",
              "      const channel = await google.colab.kernel.comms.open(id);\n",
              "      // Send a message to notify the kernel that we're ready.\n",
              "      channel.send({})\n",
              "\n",
              "      for await (const message of channel.messages) {\n",
              "        // Send a message to notify the kernel that we're ready.\n",
              "        channel.send({})\n",
              "        if (message.buffers) {\n",
              "          for (const buffer of message.buffers) {\n",
              "            buffers.push(buffer);\n",
              "            downloaded += buffer.byteLength;\n",
              "            progress.value = downloaded;\n",
              "          }\n",
              "        }\n",
              "      }\n",
              "      const blob = new Blob(buffers, {type: 'application/binary'});\n",
              "      const a = document.createElement('a');\n",
              "      a.href = window.URL.createObjectURL(blob);\n",
              "      a.download = filename;\n",
              "      div.appendChild(a);\n",
              "      a.click();\n",
              "      div.remove();\n",
              "    }\n",
              "  "
            ]
          },
          "metadata": {}
        },
        {
          "output_type": "display_data",
          "data": {
            "text/plain": [
              "<IPython.core.display.Javascript object>"
            ],
            "application/javascript": [
              "download(\"download_f1fc24e5-43d6-4a09-8cb3-cfc47707cc47\", \"github_topic_wise_csv_files.zip\", 19484)"
            ]
          },
          "metadata": {}
        },
        {
          "output_type": "stream",
          "name": "stdout",
          "text": [
            "✅All files zipped and downloaded successfully!\n"
          ]
        }
      ]
    },
    {
      "cell_type": "markdown",
      "source": [
        "## References & Future work\n",
        "\n",
        "### Summary:-\n",
        "- The project scrapes **GitHub Topics** and extracts details like topic names, descriptions, and URLs, saving them in **`topics.csv`**.  \n",
        "- For each topic, it scrapes the **top 20 repositories**, extracting **username, repository name, stars, and URL**, storing them in separate **CSV files**.  \n",
        "- All CSV files are zipped and **downloaded automatically** for easy access.  \n",
        "- The project is implemented in **Google Colab** using `requests`, `BeautifulSoup`, `pandas`, and file-handling libraries. ✅\n",
        "\n",
        "\n",
        "### References:-\n",
        "- https://www.crummy.com/software/BeautifulSoup/bs4/doc/\n",
        "- https://docs.python-requests.org/en/v2.0.0/\n",
        "- https://developer.mozilla.org/en-US/docs/Web/HTTP/Status\n",
        "- https://pandas.pydata.org/docs/reference/api/pandas.DataFrame.html\n",
        "- https://www.geeksforgeeks.org/create-a-new-text-file-in-python/\n",
        "- https://pandas.pydata.org/docs/reference/api/pandas.DataFrame.iterrows.html\n",
        "\n",
        "\n",
        "### Ideas for Future Work\n",
        "- Github shows only top 20 repositories when page is loaded.\n",
        "- And if we want to see data of more repositories than we have to click on 'load more' area given at bottom of page and then it load more 20 (may be 20), and then if we want to show further data then again click on 'load more' and so on.\n",
        "- Problem is web page have only 20 repositories html tags and hence we have scraped top 20 repositories data.\n",
        "- We can make a web scraping script that scrapes top 100 repositories data from Github."
      ],
      "metadata": {
        "id": "fXUNg43gOXPo"
      }
    }
  ]
}